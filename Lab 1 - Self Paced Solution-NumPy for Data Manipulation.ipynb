{
 "cells": [
  {
   "cell_type": "markdown",
   "id": "4468a151",
   "metadata": {},
   "source": [
    "<span style=\"color:black;font-size: 30px; font-family: Arial; font-weight: bold;\"> EDUNET FOUNDATION-Self Paced Solution Notebook</span>"
   ]
  },
  {
   "cell_type": "markdown",
   "id": "57b83871",
   "metadata": {},
   "source": [
    "<span style=\"color:black;font-size: 25px; font-family: Arial; font-weight: bold;\"> Lab 1: NumPy for Data Manipulation</span>"
   ]
  },
  {
   "cell_type": "markdown",
   "id": "261939cc",
   "metadata": {},
   "source": [
    "<span style=\"color:black;font-size: 25px; font-family: Arial; font-weight: bold;\"> Problem 1: Create a 1 D NumPy array from a list </span>"
   ]
  },
  {
   "cell_type": "code",
   "execution_count": 2,
   "id": "2c5092f5",
   "metadata": {},
   "outputs": [
    {
     "name": "stdout",
     "output_type": "stream",
     "text": [
      "[1 2 3 4 5 6 7]\n"
     ]
    }
   ],
   "source": [
    "import numpy as np\n",
    "\n",
    "# Create a variable called my_array, and pass a list to the array() function\n",
    "myArray_1D = np.array([1,2,3,4,5,6,7])\n",
    "\n",
    "print(myArray_1D)"
   ]
  },
  {
   "cell_type": "markdown",
   "id": "ceaaeef5",
   "metadata": {},
   "source": [
    "<span style=\"color:black;font-size: 25px; font-family: Arial; font-weight: bold;\"> Problem 2: Create a 2 D NumPy array from a list.</span>"
   ]
  },
  {
   "cell_type": "code",
   "execution_count": 3,
   "id": "d2131c3d",
   "metadata": {},
   "outputs": [
    {
     "name": "stdout",
     "output_type": "stream",
     "text": [
      "[[1 2 3 4]\n",
      " [5 6 7 8]]\n"
     ]
    }
   ],
   "source": [
    "import numpy as np\n",
    "\n",
    "# Pass 2 lists into the function\n",
    "myArray_2D = np.array([[1,2,3,4],[5,6,7,8]])\n",
    "\n",
    "print(myArray_2D)"
   ]
  },
  {
   "cell_type": "markdown",
   "id": "b182938c",
   "metadata": {},
   "source": [
    "<span style=\"color:black;font-size: 25px; font-family: Arial; font-weight: bold;\"> Problem 3: Print the shape, dimensionality and Size of the above array. </span>"
   ]
  },
  {
   "cell_type": "code",
   "execution_count": 6,
   "id": "1fd2d9ad",
   "metadata": {},
   "outputs": [
    {
     "name": "stdout",
     "output_type": "stream",
     "text": [
      "Shape of array 2:\n",
      " (2, 4)\n",
      "Dimensionality of array 2:\n",
      " 2\n",
      "Size of an array 2:\n",
      " 8\n"
     ]
    }
   ],
   "source": [
    "# Second array\n",
    "\n",
    "print(\"Shape of array 2:\\n\", myArray_2D.shape)\n",
    "print(\"Dimensionality of array 2:\\n\", myArray_2D.ndim)\n",
    "print(\"Size of an array 2:\\n\", myArray_2D.size)"
   ]
  },
  {
   "cell_type": "markdown",
   "id": "26c2735f",
   "metadata": {},
   "source": [
    "<span style=\"color:black;font-size: 25px; font-family: Arial; font-weight: bold;\"> Problem 4:  Create an array with 4 rows and 3 columns of zeros. </span>"
   ]
  },
  {
   "cell_type": "code",
   "execution_count": 7,
   "id": "b3983fe2",
   "metadata": {},
   "outputs": [
    {
     "name": "stdout",
     "output_type": "stream",
     "text": [
      "[[0. 0. 0.]\n",
      " [0. 0. 0.]\n",
      " [0. 0. 0.]\n",
      " [0. 0. 0.]]\n"
     ]
    }
   ],
   "source": [
    "import numpy as np\n",
    "\n",
    "zero = np.zeros((4,3))\n",
    "\n",
    "print(zero)"
   ]
  },
  {
   "cell_type": "markdown",
   "id": "3996036f",
   "metadata": {},
   "source": [
    "<span style=\"color:black;font-size: 25px; font-family: Arial; font-weight: bold;\"> Problem 5: Create an array of ones that has 3 rows and 4 columns. </span>"
   ]
  },
  {
   "cell_type": "code",
   "execution_count": 9,
   "id": "373bb602",
   "metadata": {},
   "outputs": [
    {
     "name": "stdout",
     "output_type": "stream",
     "text": [
      "[[1. 1. 1. 1.]\n",
      " [1. 1. 1. 1.]\n",
      " [1. 1. 1. 1.]]\n"
     ]
    }
   ],
   "source": [
    "import numpy as np\n",
    "\n",
    "one = np.ones((3,4))\n",
    "\n",
    "print(one)"
   ]
  },
  {
   "cell_type": "markdown",
   "id": "a116b70b",
   "metadata": {},
   "source": [
    "<span style=\"color:black;font-size: 25px; font-family: Arial; font-weight: bold;\"> Problem 6: Create an array containing integers 4 to 13 inclusive.</span>"
   ]
  },
  {
   "cell_type": "code",
   "execution_count": 11,
   "id": "ae41409a",
   "metadata": {},
   "outputs": [
    {
     "name": "stdout",
     "output_type": "stream",
     "text": [
      "[ 4  5  6  7  8  9 10 11 12 13]\n"
     ]
    }
   ],
   "source": [
    "import numpy as np\n",
    "\n",
    "range1 = np.arange(4,14)\n",
    "\n",
    "print(range1)"
   ]
  },
  {
   "cell_type": "markdown",
   "id": "fc5cdcc0",
   "metadata": {},
   "source": [
    "<span style=\"color:black;font-size: 25px; font-family: Arial; font-weight: bold;\"> Problem 7: Create a 2 by 2 array containing '4' in each position.</span>"
   ]
  },
  {
   "cell_type": "code",
   "execution_count": 12,
   "id": "69f51290",
   "metadata": {},
   "outputs": [
    {
     "name": "stdout",
     "output_type": "stream",
     "text": [
      "[[4 4]\n",
      " [4 4]]\n"
     ]
    }
   ],
   "source": [
    "import numpy as np\n",
    "\n",
    "print(np.full((2,2),4))"
   ]
  },
  {
   "cell_type": "markdown",
   "id": "12abb374",
   "metadata": {},
   "source": [
    "<span style=\"color:black;font-size: 25px; font-family: Arial; font-weight: bold;\"> Problem 8: Create a 3 by 3 array with random floats in [0, 10].</span>"
   ]
  },
  {
   "cell_type": "code",
   "execution_count": 13,
   "id": "62102893",
   "metadata": {},
   "outputs": [
    {
     "name": "stdout",
     "output_type": "stream",
     "text": [
      "[[1.46785284 8.57459571 4.57627205]\n",
      " [8.82642524 2.725168   3.55103038]\n",
      " [9.18771549 7.07305014 1.73936416]]\n"
     ]
    }
   ],
   "source": [
    "import numpy as np\n",
    "\n",
    "print(np.random.random((3,3))*10)"
   ]
  },
  {
   "cell_type": "markdown",
   "id": "f43438eb",
   "metadata": {},
   "source": [
    "<span style=\"color:black;font-size: 25px; font-family: Arial; font-weight: bold;\"> Problem 9: Use this array for the following practice:<br></span>\n",
    "<span style=\"color:black;font-size: 25px; font-family: Arial; font-weight: bold;\">myArray = np.array([[11,12,13], [14,15,16], [17,18,19]])<br></span>\n",
    "<span style=\"color:black;font-size: 25px; font-family: Arial; font-weight: bold;\">a) Get a subarray of the first row and first 2 columns.<br></span>\n",
    "<span style=\"color:black;font-size: 25px; font-family: Arial; font-weight: bold;\">b) change all elements in 1st and second row to 0.</span>"
   ]
  },
  {
   "cell_type": "code",
   "execution_count": 24,
   "id": "484e25eb",
   "metadata": {},
   "outputs": [
    {
     "name": "stdout",
     "output_type": "stream",
     "text": [
      "[11 12]\n"
     ]
    }
   ],
   "source": [
    "## a) Get a subarray of the first row and first 2 columns.\n",
    "import numpy as np\n",
    "\n",
    "myArray = np.array([[11,12,13], [14,15,16], [17,18,19]])\n",
    "\n",
    "myArray_new = myArray[0,:2]\n",
    "\n",
    "print(myArray_new)"
   ]
  },
  {
   "cell_type": "code",
   "execution_count": 25,
   "id": "49e08f83",
   "metadata": {},
   "outputs": [
    {
     "name": "stdout",
     "output_type": "stream",
     "text": [
      "[[ 0  0  0]\n",
      " [ 0  0  0]\n",
      " [17 18 19]]\n"
     ]
    }
   ],
   "source": [
    "##b) change all elements in 1st and second row to 0\n",
    "myArray[:2,:] = 0\n",
    "\n",
    "print(myArray)"
   ]
  },
  {
   "cell_type": "markdown",
   "id": "f48fa476",
   "metadata": {},
   "source": [
    "<span style=\"color:black;font-size: 25px; font-family: Arial; font-weight: bold;\"> Problem 10: Create an array that contains [0,1,2,3,4,5,6,7,8,9,10,11,12,13,14,15,16,17,18,19,20] and reverse the order.</span>"
   ]
  },
  {
   "cell_type": "code",
   "execution_count": 18,
   "id": "855ac331",
   "metadata": {},
   "outputs": [
    {
     "name": "stdout",
     "output_type": "stream",
     "text": [
      "[ 0  1  2  3  4  5  6  7  8  9 10 11 12 13 14 15 16 17 18 19 20]\n",
      "[20 19 18 17 16 15 14 13 12 11 10  9  8  7  6  5  4  3  2  1  0]\n"
     ]
    }
   ],
   "source": [
    "\n",
    "myArray = np.arange(21)\n",
    "print(myArray)\n",
    "print(myArray[::-1])"
   ]
  },
  {
   "cell_type": "markdown",
   "id": "7e1248d6",
   "metadata": {},
   "source": [
    "<span style=\"color:black;font-size: 25px; font-family: Arial; font-weight: bold;\"> Problem 11: Find the elements that are the same in both arrays.<br /></span>\n",
    "<span style=\"color:black;font-size: 25px; font-family: Arial; font-weight: bold;\"> myArray_1 = np.array([2,2,3,4]).<br /></span>\n",
    "<span style=\"color:black;font-size: 25px; font-family: Arial; font-weight: bold;\"> myArray_2 = np.array([3,2,3,4]).</span>"
   ]
  },
  {
   "cell_type": "code",
   "execution_count": 20,
   "id": "352634ac",
   "metadata": {},
   "outputs": [
    {
     "name": "stdout",
     "output_type": "stream",
     "text": [
      "First array: [2 2 3 4]\n",
      "Second array: [3 2 3 4] \n",
      "\n",
      "(array([1, 2, 3], dtype=int64),) \n",
      "\n"
     ]
    }
   ],
   "source": [
    "import numpy as np\n",
    "\n",
    "myArray_1 = np.array([2,2,3,4])\n",
    "myArray_2 = np.array([3,2,3,4])\n",
    "\n",
    "print(\"First array:\", myArray_1)\n",
    "print(\"Second array:\", myArray_2, \"\\n\")\n",
    "\n",
    "print(np.where(myArray_1 == myArray_2), \"\\n\")\n"
   ]
  },
  {
   "cell_type": "markdown",
   "id": "8a9beb97",
   "metadata": {},
   "source": [
    "<span style=\"color:black;font-size: 25px; font-family: Arial; font-weight: bold;\"> Problem 12: Find elements in myArray_1 that are smaller than or equal to its corresponding element in myArray_2.</span>"
   ]
  },
  {
   "cell_type": "code",
   "execution_count": 21,
   "id": "f8b96ef0",
   "metadata": {},
   "outputs": [
    {
     "name": "stdout",
     "output_type": "stream",
     "text": [
      "First array: [2 2 3 4]\n",
      "Second array: [3 2 3 4] \n",
      "\n",
      "(array([0, 1, 2, 3], dtype=int64),) \n",
      "\n"
     ]
    }
   ],
   "source": [
    "import numpy as np\n",
    "\n",
    "myArray_1 = np.array([2,2,3,4])\n",
    "myArray_2 = np.array([3,2,3,4])\n",
    "\n",
    "print(\"First array:\", myArray_1)\n",
    "print(\"Second array:\", myArray_2, \"\\n\")\n",
    "\n",
    "print(np.where(myArray_1 <= myArray_2), \"\\n\")"
   ]
  },
  {
   "cell_type": "markdown",
   "id": "102d32ec",
   "metadata": {},
   "source": [
    "<span style=\"color:black;font-size: 25px; font-family: Arial; font-weight: bold;\"> Problem 13: Find the elements in myArray_1 that is bigger than 2.</span>"
   ]
  },
  {
   "cell_type": "code",
   "execution_count": 22,
   "id": "5f47ef10",
   "metadata": {},
   "outputs": [
    {
     "name": "stdout",
     "output_type": "stream",
     "text": [
      "First array: [2 2 3 4] \n",
      "\n",
      "[False False  True  True]\n"
     ]
    }
   ],
   "source": [
    "import numpy as np\n",
    "\n",
    "myArray_1 = np.array([2,2,3,4])\n",
    "\n",
    "print(\"First array:\", myArray_1, \"\\n\")\n",
    "\n",
    "print(myArray_1 > 2)\n"
   ]
  },
  {
   "cell_type": "markdown",
   "id": "98261923",
   "metadata": {},
   "source": [
    "<span style=\"color:black;font-size: 25px; font-family: Arial; font-weight: bold;\"> Problem 14:Convert a 1-D array into a 2-D array with 3 rows.</span>"
   ]
  },
  {
   "cell_type": "code",
   "execution_count": 23,
   "id": "ddcbb7cc",
   "metadata": {},
   "outputs": [
    {
     "name": "stdout",
     "output_type": "stream",
     "text": [
      "The original array: \n",
      " [0 1 2 3 4 5 6 7 8] \n",
      "\n",
      "Method 1: \n",
      " [[0 1 2]\n",
      " [3 4 5]\n",
      " [6 7 8]] \n",
      "\n",
      "Method 2: \n",
      " [[0 1 2]\n",
      " [3 4 5]\n",
      " [6 7 8]]\n"
     ]
    }
   ],
   "source": [
    "import numpy as np\n",
    "\n",
    "exercise_2 = np.array([0, 1, 2, 3, 4, 5, 6, 7, 8])\n",
    "\n",
    "print(\"The original array: \\n\", exercise_2, \"\\n\")\n",
    "\n",
    "print(\"Method 1: \\n\", exercise_2.reshape(3,-1), \"\\n\")\n",
    "\n",
    "print(\"Method 2: \\n\", exercise_2.reshape(3,3))"
   ]
  },
  {
   "cell_type": "code",
   "execution_count": null,
   "id": "6ae7b820",
   "metadata": {},
   "outputs": [],
   "source": []
  }
 ],
 "metadata": {
  "kernelspec": {
   "display_name": "Python 3",
   "language": "python",
   "name": "python3"
  },
  "language_info": {
   "codemirror_mode": {
    "name": "ipython",
    "version": 3
   },
   "file_extension": ".py",
   "mimetype": "text/x-python",
   "name": "python",
   "nbconvert_exporter": "python",
   "pygments_lexer": "ipython3",
   "version": "3.8.8"
  }
 },
 "nbformat": 4,
 "nbformat_minor": 5
}
